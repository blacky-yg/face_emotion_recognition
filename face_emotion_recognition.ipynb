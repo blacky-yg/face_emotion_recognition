{
 "cells": [
  {
   "cell_type": "code",
   "execution_count": null,
   "metadata": {
    "_cell_guid": "b1076dfc-b9ad-4769-8c92-a6c4dae69d19",
    "_uuid": "8f2839f25d086af736a60e9eeb907d3b93b6e0e5",
    "execution": {
     "iopub.execute_input": "2022-10-24T00:15:06.847097Z",
     "iopub.status.busy": "2022-10-24T00:15:06.846721Z",
     "iopub.status.idle": "2022-10-24T00:15:07.158881Z",
     "shell.execute_reply": "2022-10-24T00:15:07.157833Z",
     "shell.execute_reply.started": "2022-10-24T00:15:06.847060Z"
    },
    "trusted": true
   },
   "outputs": [],
   "source": [
    "\n",
    "import numpy as np \n",
    "import pandas as pd \n",
    "import cv2\n",
    "\n"
   ]
  },
  {
   "cell_type": "code",
   "execution_count": null,
   "metadata": {
    "_cell_guid": "79c7e3d0-c299-4dcb-8224-4455121ee9b0",
    "_uuid": "d629ff2d2480ee46fbb7e2d37f6b5fab8052498a",
    "execution": {
     "iopub.execute_input": "2022-10-24T00:15:07.161490Z",
     "iopub.status.busy": "2022-10-24T00:15:07.161196Z",
     "iopub.status.idle": "2022-10-24T00:15:13.828028Z",
     "shell.execute_reply": "2022-10-24T00:15:13.826972Z",
     "shell.execute_reply.started": "2022-10-24T00:15:07.161463Z"
    },
    "trusted": true
   },
   "outputs": [],
   "source": [
    "df = pd.read_csv('../input/facial-expression/fer2013.csv')"
   ]
  },
  {
   "cell_type": "code",
   "execution_count": null,
   "metadata": {
    "execution": {
     "iopub.execute_input": "2022-10-24T00:15:13.829528Z",
     "iopub.status.busy": "2022-10-24T00:15:13.829201Z",
     "iopub.status.idle": "2022-10-24T00:15:13.849901Z",
     "shell.execute_reply": "2022-10-24T00:15:13.848975Z",
     "shell.execute_reply.started": "2022-10-24T00:15:13.829498Z"
    },
    "trusted": true
   },
   "outputs": [
    {
     "data": {
      "text/html": [
       "<div>\n",
       "<style scoped>\n",
       "    .dataframe tbody tr th:only-of-type {\n",
       "        vertical-align: middle;\n",
       "    }\n",
       "\n",
       "    .dataframe tbody tr th {\n",
       "        vertical-align: top;\n",
       "    }\n",
       "\n",
       "    .dataframe thead th {\n",
       "        text-align: right;\n",
       "    }\n",
       "</style>\n",
       "<table border=\"1\" class=\"dataframe\">\n",
       "  <thead>\n",
       "    <tr style=\"text-align: right;\">\n",
       "      <th></th>\n",
       "      <th>emotion</th>\n",
       "      <th>pixels</th>\n",
       "      <th>Usage</th>\n",
       "    </tr>\n",
       "  </thead>\n",
       "  <tbody>\n",
       "    <tr>\n",
       "      <th>0</th>\n",
       "      <td>0</td>\n",
       "      <td>70 80 82 72 58 58 60 63 54 58 60 48 89 115 121...</td>\n",
       "      <td>Training</td>\n",
       "    </tr>\n",
       "    <tr>\n",
       "      <th>1</th>\n",
       "      <td>0</td>\n",
       "      <td>151 150 147 155 148 133 111 140 170 174 182 15...</td>\n",
       "      <td>Training</td>\n",
       "    </tr>\n",
       "    <tr>\n",
       "      <th>2</th>\n",
       "      <td>2</td>\n",
       "      <td>231 212 156 164 174 138 161 173 182 200 106 38...</td>\n",
       "      <td>Training</td>\n",
       "    </tr>\n",
       "    <tr>\n",
       "      <th>3</th>\n",
       "      <td>4</td>\n",
       "      <td>24 32 36 30 32 23 19 20 30 41 21 22 32 34 21 1...</td>\n",
       "      <td>Training</td>\n",
       "    </tr>\n",
       "    <tr>\n",
       "      <th>4</th>\n",
       "      <td>6</td>\n",
       "      <td>4 0 0 0 0 0 0 0 0 0 0 0 3 15 23 28 48 50 58 84...</td>\n",
       "      <td>Training</td>\n",
       "    </tr>\n",
       "  </tbody>\n",
       "</table>\n",
       "</div>"
      ],
      "text/plain": [
       "   emotion                                             pixels     Usage\n",
       "0        0  70 80 82 72 58 58 60 63 54 58 60 48 89 115 121...  Training\n",
       "1        0  151 150 147 155 148 133 111 140 170 174 182 15...  Training\n",
       "2        2  231 212 156 164 174 138 161 173 182 200 106 38...  Training\n",
       "3        4  24 32 36 30 32 23 19 20 30 41 21 22 32 34 21 1...  Training\n",
       "4        6  4 0 0 0 0 0 0 0 0 0 0 0 3 15 23 28 48 50 58 84...  Training"
      ]
     },
     "metadata": {},
     "output_type": "display_data"
    }
   ],
   "source": [
    "df.head()"
   ]
  },
  {
   "cell_type": "code",
   "execution_count": null,
   "metadata": {
    "execution": {
     "iopub.execute_input": "2022-10-24T00:15:13.851602Z",
     "iopub.status.busy": "2022-10-24T00:15:13.851157Z",
     "iopub.status.idle": "2022-10-24T00:15:13.863136Z",
     "shell.execute_reply": "2022-10-24T00:15:13.862214Z",
     "shell.execute_reply.started": "2022-10-24T00:15:13.851567Z"
    },
    "trusted": true
   },
   "outputs": [
    {
     "data": {
      "text/plain": [
       "2304"
      ]
     },
     "metadata": {},
     "output_type": "display_data"
    }
   ],
   "source": [
    "len(df.iloc[0]['pixels'].split())\n",
    "# 48 * 48"
   ]
  },
  {
   "cell_type": "code",
   "execution_count": null,
   "metadata": {
    "execution": {
     "iopub.execute_input": "2022-10-24T00:15:13.866362Z",
     "iopub.status.busy": "2022-10-24T00:15:13.866081Z",
     "iopub.status.idle": "2022-10-24T00:15:13.873310Z",
     "shell.execute_reply": "2022-10-24T00:15:13.872215Z",
     "shell.execute_reply.started": "2022-10-24T00:15:13.866334Z"
    },
    "trusted": true
   },
   "outputs": [],
   "source": [
    "label_map = ['Anger', 'Neutral', 'Fear', 'Happy', 'Sad', 'Surprise']"
   ]
  },
  {
   "cell_type": "code",
   "execution_count": null,
   "metadata": {
    "execution": {
     "iopub.execute_input": "2022-10-24T00:15:13.876125Z",
     "iopub.status.busy": "2022-10-24T00:15:13.875810Z",
     "iopub.status.idle": "2022-10-24T00:15:13.883166Z",
     "shell.execute_reply": "2022-10-24T00:15:13.881809Z",
     "shell.execute_reply.started": "2022-10-24T00:15:13.876095Z"
    },
    "trusted": true
   },
   "outputs": [],
   "source": [
    "import matplotlib.pyplot as plt"
   ]
  },
  {
   "cell_type": "code",
   "execution_count": null,
   "metadata": {
    "execution": {
     "iopub.execute_input": "2022-10-24T00:15:13.885411Z",
     "iopub.status.busy": "2022-10-24T00:15:13.884940Z",
     "iopub.status.idle": "2022-10-24T00:15:13.894513Z",
     "shell.execute_reply": "2022-10-24T00:15:13.893193Z",
     "shell.execute_reply.started": "2022-10-24T00:15:13.885368Z"
    },
    "trusted": true
   },
   "outputs": [],
   "source": [
    "img = df.iloc[0]['pixels'].split()"
   ]
  },
  {
   "cell_type": "code",
   "execution_count": null,
   "metadata": {
    "execution": {
     "iopub.execute_input": "2022-10-24T00:15:13.896483Z",
     "iopub.status.busy": "2022-10-24T00:15:13.896140Z",
     "iopub.status.idle": "2022-10-24T00:15:13.906379Z",
     "shell.execute_reply": "2022-10-24T00:15:13.905449Z",
     "shell.execute_reply.started": "2022-10-24T00:15:13.896454Z"
    },
    "trusted": true
   },
   "outputs": [],
   "source": [
    "img = [int(i) for i in img]"
   ]
  },
  {
   "cell_type": "code",
   "execution_count": null,
   "metadata": {
    "execution": {
     "iopub.execute_input": "2022-10-24T00:15:13.908297Z",
     "iopub.status.busy": "2022-10-24T00:15:13.907944Z",
     "iopub.status.idle": "2022-10-24T00:15:13.917823Z",
     "shell.execute_reply": "2022-10-24T00:15:13.917055Z",
     "shell.execute_reply.started": "2022-10-24T00:15:13.908266Z"
    },
    "trusted": true
   },
   "outputs": [
    {
     "data": {
      "text/plain": [
       "int"
      ]
     },
     "metadata": {},
     "output_type": "display_data"
    }
   ],
   "source": [
    "type(img[0])"
   ]
  },
  {
   "cell_type": "code",
   "execution_count": null,
   "metadata": {
    "execution": {
     "iopub.execute_input": "2022-10-24T00:15:13.919284Z",
     "iopub.status.busy": "2022-10-24T00:15:13.918873Z",
     "iopub.status.idle": "2022-10-24T00:15:13.929287Z",
     "shell.execute_reply": "2022-10-24T00:15:13.928366Z",
     "shell.execute_reply.started": "2022-10-24T00:15:13.919253Z"
    },
    "trusted": true
   },
   "outputs": [
    {
     "data": {
      "text/plain": [
       "2304"
      ]
     },
     "metadata": {},
     "output_type": "display_data"
    }
   ],
   "source": [
    "len(img)"
   ]
  },
  {
   "cell_type": "code",
   "execution_count": null,
   "metadata": {
    "execution": {
     "iopub.execute_input": "2022-10-24T00:15:13.931042Z",
     "iopub.status.busy": "2022-10-24T00:15:13.930594Z",
     "iopub.status.idle": "2022-10-24T00:15:13.937752Z",
     "shell.execute_reply": "2022-10-24T00:15:13.936911Z",
     "shell.execute_reply.started": "2022-10-24T00:15:13.930984Z"
    },
    "trusted": true
   },
   "outputs": [],
   "source": [
    "img = np.array(img)"
   ]
  },
  {
   "cell_type": "code",
   "execution_count": null,
   "metadata": {
    "execution": {
     "iopub.execute_input": "2022-10-24T00:15:13.939436Z",
     "iopub.status.busy": "2022-10-24T00:15:13.939024Z",
     "iopub.status.idle": "2022-10-24T00:15:13.948491Z",
     "shell.execute_reply": "2022-10-24T00:15:13.947538Z",
     "shell.execute_reply.started": "2022-10-24T00:15:13.939404Z"
    },
    "trusted": true
   },
   "outputs": [],
   "source": [
    "img = img.reshape(48,48)"
   ]
  },
  {
   "cell_type": "code",
   "execution_count": null,
   "metadata": {
    "execution": {
     "iopub.execute_input": "2022-10-24T00:15:13.950550Z",
     "iopub.status.busy": "2022-10-24T00:15:13.950097Z",
     "iopub.status.idle": "2022-10-24T00:15:13.960377Z",
     "shell.execute_reply": "2022-10-24T00:15:13.959619Z",
     "shell.execute_reply.started": "2022-10-24T00:15:13.950505Z"
    },
    "trusted": true
   },
   "outputs": [
    {
     "data": {
      "text/plain": [
       "(48, 48)"
      ]
     },
     "metadata": {},
     "output_type": "display_data"
    }
   ],
   "source": [
    "img.shape"
   ]
  },
  {
   "cell_type": "code",
   "execution_count": null,
   "metadata": {
    "execution": {
     "iopub.execute_input": "2022-10-24T00:15:13.961674Z",
     "iopub.status.busy": "2022-10-24T00:15:13.961398Z",
     "iopub.status.idle": "2022-10-24T00:15:14.155017Z",
     "shell.execute_reply": "2022-10-24T00:15:14.154104Z",
     "shell.execute_reply.started": "2022-10-24T00:15:13.961648Z"
    },
    "trusted": true
   },
   "outputs": [
    {
     "data": {
      "text/plain": [
       "Text(0.5, 0, '0')"
      ]
     },
     "metadata": {},
     "output_type": "display_data"
    },
    {
     "data": {
      "image/png": "[encoded data removed]",
      "text/plain": [
       "<Figure size 432x288 with 1 Axes>"
      ]
     },
     "metadata": {},
     "output_type": "display_data"
    }
   ],
   "source": [
    "plt.imshow(img, cmap='gray')\n",
    "plt.xlabel(df.iloc[0]['emotion'])"
   ]
  },
  {
   "cell_type": "code",
   "execution_count": null,
   "metadata": {
    "execution": {
     "iopub.execute_input": "2022-10-24T00:15:14.156432Z",
     "iopub.status.busy": "2022-10-24T00:15:14.156147Z",
     "iopub.status.idle": "2022-10-24T00:15:14.161140Z",
     "shell.execute_reply": "2022-10-24T00:15:14.159981Z",
     "shell.execute_reply.started": "2022-10-24T00:15:14.156405Z"
    },
    "trusted": true
   },
   "outputs": [],
   "source": [
    "X = []\n",
    "y = []"
   ]
  },
  {
   "cell_type": "code",
   "execution_count": null,
   "metadata": {
    "execution": {
     "iopub.execute_input": "2022-10-24T00:15:14.163222Z",
     "iopub.status.busy": "2022-10-24T00:15:14.162762Z",
     "iopub.status.idle": "2022-10-24T00:15:14.249473Z",
     "shell.execute_reply": "2022-10-24T00:15:14.248257Z",
     "shell.execute_reply.started": "2022-10-24T00:15:14.163174Z"
    },
    "trusted": true
   },
   "outputs": [],
   "source": [
    "def getData(path):\n",
    "    anger = 0\n",
    "    fear = 0\n",
    "    sad = 0\n",
    "    happy = 0\n",
    "    surprise = 0\n",
    "    neutral = 0\n",
    "    df = pd.read_csv(path)\n",
    "    \n",
    "    X = []\n",
    "    y = []    \n",
    "    \n",
    "    for i in range(len(df)):\n",
    "        if df.iloc[i]['emotion'] != 1:\n",
    "            if df.iloc[i]['emotion'] == 0:\n",
    "                if anger <= 4000:            \n",
    "                    y.append(df.iloc[i]['emotion'])\n",
    "                    im = df.iloc[i]['pixels']\n",
    "                    im = [int(x) for x in im.split()]\n",
    "                    X.append(im)\n",
    "                    anger += 1\n",
    "                else:\n",
    "                    pass\n",
    "                \n",
    "            if df.iloc[i]['emotion'] == 2:\n",
    "                if fear <= 4000:            \n",
    "                    y.append(df.iloc[i]['emotion'])\n",
    "                    im = df.iloc[i]['pixels']\n",
    "                    im = [int(x) for x in im.split()]\n",
    "                    X.append(im)\n",
    "                    fear += 1\n",
    "                else:\n",
    "                    pass\n",
    "                \n",
    "            if df.iloc[i]['emotion'] == 3:\n",
    "                if happy <= 4000:            \n",
    "                    y.append(df.iloc[i]['emotion'])\n",
    "                    im = df.iloc[i]['pixels']\n",
    "                    im = [int(x) for x in im.split()]\n",
    "                    X.append(im)\n",
    "                    happy += 1\n",
    "                else:\n",
    "                    pass\n",
    "                \n",
    "            if df.iloc[i]['emotion'] == 4:\n",
    "                if sad <= 4000:            \n",
    "                    y.append(df.iloc[i]['emotion'])\n",
    "                    im = df.iloc[i]['pixels']\n",
    "                    im = [int(x) for x in im.split()]\n",
    "                    X.append(im)\n",
    "                    sad += 1\n",
    "                else:\n",
    "                    pass\n",
    "                \n",
    "            if df.iloc[i]['emotion'] == 5:\n",
    "                if surprise <= 4000:            \n",
    "                    y.append(df.iloc[i]['emotion'])\n",
    "                    im = df.iloc[i]['pixels']\n",
    "                    im = [int(x) for x in im.split()]\n",
    "                    X.append(im)\n",
    "                    surprise += 1\n",
    "                else:\n",
    "                    pass\n",
    "                \n",
    "            if df.iloc[i]['emotion'] == 6:\n",
    "                if neutral <= 4000:            \n",
    "                    y.append(df.iloc[i]['emotion'])\n",
    "                    im = df.iloc[i]['pixels']\n",
    "                    im = [int(x) for x in im.split()]\n",
    "                    X.append(im)\n",
    "                    neutral += 1\n",
    "                else:\n",
    "                    pass\n",
    "\n",
    "            \n",
    "            \n",
    "    return X, y  \n",
    "    "
   ]
  },
  {
   "cell_type": "code",
   "execution_count": null,
   "metadata": {
    "execution": {
     "iopub.execute_input": "2022-10-24T00:15:14.251288Z",
     "iopub.status.busy": "2022-10-24T00:15:14.250838Z",
     "iopub.status.idle": "2022-10-24T00:16:15.680858Z",
     "shell.execute_reply": "2022-10-24T00:16:15.680036Z",
     "shell.execute_reply.started": "2022-10-24T00:15:14.251244Z"
    },
    "trusted": true
   },
   "outputs": [],
   "source": [
    "X, y = getData('../input/facial-expression/fer2013.csv')"
   ]
  },
  {
   "cell_type": "code",
   "execution_count": null,
   "metadata": {
    "execution": {
     "iopub.execute_input": "2022-10-24T00:16:15.682679Z",
     "iopub.status.busy": "2022-10-24T00:16:15.682397Z",
     "iopub.status.idle": "2022-10-24T00:16:15.692133Z",
     "shell.execute_reply": "2022-10-24T00:16:15.691234Z",
     "shell.execute_reply.started": "2022-10-24T00:16:15.682651Z"
    },
    "trusted": true
   },
   "outputs": [
    {
     "data": {
      "text/plain": [
       "(array([0, 2, 3, 4, 5, 6]), array([4001, 4001, 4001, 4001, 4001, 4001]))"
      ]
     },
     "metadata": {},
     "output_type": "display_data"
    }
   ],
   "source": [
    "np.unique(y, return_counts=True)"
   ]
  },
  {
   "cell_type": "code",
   "execution_count": null,
   "metadata": {
    "execution": {
     "iopub.execute_input": "2022-10-24T00:16:15.693691Z",
     "iopub.status.busy": "2022-10-24T00:16:15.693335Z",
     "iopub.status.idle": "2022-10-24T00:16:20.221536Z",
     "shell.execute_reply": "2022-10-24T00:16:20.220649Z",
     "shell.execute_reply.started": "2022-10-24T00:16:15.693661Z"
    },
    "trusted": true
   },
   "outputs": [],
   "source": [
    "X = np.array(X)/255.0\n",
    "y = np.array(y)"
   ]
  },
  {
   "cell_type": "code",
   "execution_count": null,
   "metadata": {
    "execution": {
     "iopub.execute_input": "2022-10-24T00:16:20.223277Z",
     "iopub.status.busy": "2022-10-24T00:16:20.222938Z",
     "iopub.status.idle": "2022-10-24T00:16:20.229286Z",
     "shell.execute_reply": "2022-10-24T00:16:20.228299Z",
     "shell.execute_reply.started": "2022-10-24T00:16:20.223247Z"
    },
    "trusted": true
   },
   "outputs": [
    {
     "data": {
      "text/plain": [
       "((24006, 2304), (24006,))"
      ]
     },
     "metadata": {},
     "output_type": "display_data"
    }
   ],
   "source": [
    "X.shape, y.shape"
   ]
  },
  {
   "cell_type": "code",
   "execution_count": null,
   "metadata": {
    "execution": {
     "iopub.execute_input": "2022-10-24T00:16:20.231350Z",
     "iopub.status.busy": "2022-10-24T00:16:20.230773Z",
     "iopub.status.idle": "2022-10-24T00:16:20.248963Z",
     "shell.execute_reply": "2022-10-24T00:16:20.247869Z",
     "shell.execute_reply.started": "2022-10-24T00:16:20.231307Z"
    },
    "trusted": true
   },
   "outputs": [],
   "source": [
    "y_o = []\n",
    "for i in y:\n",
    "    if i != 6:\n",
    "        y_o.append(i)\n",
    "        \n",
    "    else:\n",
    "        y_o.append(1)"
   ]
  },
  {
   "cell_type": "code",
   "execution_count": null,
   "metadata": {
    "execution": {
     "iopub.execute_input": "2022-10-24T00:16:20.250880Z",
     "iopub.status.busy": "2022-10-24T00:16:20.250513Z",
     "iopub.status.idle": "2022-10-24T00:16:20.266250Z",
     "shell.execute_reply": "2022-10-24T00:16:20.265297Z",
     "shell.execute_reply.started": "2022-10-24T00:16:20.250827Z"
    },
    "trusted": true
   },
   "outputs": [
    {
     "data": {
      "text/plain": [
       "(array([0, 1, 2, 3, 4, 5]), array([4001, 4001, 4001, 4001, 4001, 4001]))"
      ]
     },
     "metadata": {},
     "output_type": "display_data"
    }
   ],
   "source": [
    "np.unique(y_o, return_counts=True)"
   ]
  },
  {
   "cell_type": "code",
   "execution_count": null,
   "metadata": {
    "execution": {
     "iopub.execute_input": "2022-10-24T00:16:20.268413Z",
     "iopub.status.busy": "2022-10-24T00:16:20.267978Z",
     "iopub.status.idle": "2022-10-24T00:16:20.974613Z",
     "shell.execute_reply": "2022-10-24T00:16:20.973625Z",
     "shell.execute_reply.started": "2022-10-24T00:16:20.268369Z"
    },
    "trusted": true
   },
   "outputs": [
    {
     "data": {
      "image/png": "[encoded data removed]",
      "text/plain": [
       "<Figure size 432x288 with 1 Axes>"
      ]
     },
     "metadata": {},
     "output_type": "display_data"
    },
    {
     "data": {
      "image/png": "[encoded data removed]",
      "text/plain": [
       "<Figure size 432x288 with 1 Axes>"
      ]
     },
     "metadata": {},
     "output_type": "display_data"
    },
    {
     "data": {
      "image/png": "[encoded data removed]",
      "text/plain": [
       "<Figure size 432x288 with 1 Axes>"
      ]
     },
     "metadata": {},
     "output_type": "display_data"
    },
    {
     "data": {
      "image/png": "[encoded data removed]",
      "text/plain": [
       "<Figure size 432x288 with 1 Axes>"
      ]
     },
     "metadata": {},
     "output_type": "display_data"
    },
    {
     "data": {
      "image/png": "[encoded data removed]",
      "text/plain": [
       "<Figure size 432x288 with 1 Axes>"
      ]
     },
     "metadata": {},
     "output_type": "display_data"
    }
   ],
   "source": [
    "for i in range(5):\n",
    "    r = np.random.randint((1), 24000, 1)[0]\n",
    "    plt.figure()\n",
    "    plt.imshow(X[r].reshape(48,48), cmap='gray')\n",
    "    plt.xlabel(label_map[y_o[r]])"
   ]
  },
  {
   "cell_type": "code",
   "execution_count": null,
   "metadata": {
    "execution": {
     "iopub.execute_input": "2022-10-24T00:16:20.976112Z",
     "iopub.status.busy": "2022-10-24T00:16:20.975806Z",
     "iopub.status.idle": "2022-10-24T00:16:20.980387Z",
     "shell.execute_reply": "2022-10-24T00:16:20.979497Z",
     "shell.execute_reply.started": "2022-10-24T00:16:20.976082Z"
    },
    "trusted": true
   },
   "outputs": [],
   "source": [
    "X = X.reshape(len(X), 48, 48, 1)"
   ]
  },
  {
   "cell_type": "code",
   "execution_count": null,
   "metadata": {
    "execution": {
     "iopub.execute_input": "2022-10-24T00:16:20.982625Z",
     "iopub.status.busy": "2022-10-24T00:16:20.982245Z",
     "iopub.status.idle": "2022-10-24T00:16:20.991432Z",
     "shell.execute_reply": "2022-10-24T00:16:20.990046Z",
     "shell.execute_reply.started": "2022-10-24T00:16:20.982593Z"
    },
    "trusted": true
   },
   "outputs": [],
   "source": [
    "# no_of_images, height, width, coloar_map"
   ]
  },
  {
   "cell_type": "code",
   "execution_count": null,
   "metadata": {
    "execution": {
     "iopub.execute_input": "2022-10-24T00:16:20.993424Z",
     "iopub.status.busy": "2022-10-24T00:16:20.992962Z",
     "iopub.status.idle": "2022-10-24T00:16:21.003043Z",
     "shell.execute_reply": "2022-10-24T00:16:21.002014Z",
     "shell.execute_reply.started": "2022-10-24T00:16:20.993380Z"
    },
    "trusted": true
   },
   "outputs": [
    {
     "data": {
      "text/plain": [
       "(24006, 48, 48, 1)"
      ]
     },
     "metadata": {},
     "output_type": "display_data"
    }
   ],
   "source": [
    "X.shape"
   ]
  },
  {
   "cell_type": "code",
   "execution_count": null,
   "metadata": {
    "execution": {
     "iopub.execute_input": "2022-10-24T00:16:21.004920Z",
     "iopub.status.busy": "2022-10-24T00:16:21.004571Z",
     "iopub.status.idle": "2022-10-24T00:16:26.825469Z",
     "shell.execute_reply": "2022-10-24T00:16:26.824512Z",
     "shell.execute_reply.started": "2022-10-24T00:16:21.004882Z"
    },
    "trusted": true
   },
   "outputs": [],
   "source": [
    "from keras.utils import to_categorical\n",
    "y_new = to_categorical(y_o, num_classes=6)"
   ]
  },
  {
   "cell_type": "code",
   "execution_count": null,
   "metadata": {
    "execution": {
     "iopub.execute_input": "2022-10-24T00:16:26.827243Z",
     "iopub.status.busy": "2022-10-24T00:16:26.826916Z",
     "iopub.status.idle": "2022-10-24T00:16:26.833482Z",
     "shell.execute_reply": "2022-10-24T00:16:26.832765Z",
     "shell.execute_reply.started": "2022-10-24T00:16:26.827204Z"
    },
    "trusted": true
   },
   "outputs": [
    {
     "data": {
      "text/plain": [
       "(24006, (24006, 6))"
      ]
     },
     "metadata": {},
     "output_type": "display_data"
    }
   ],
   "source": [
    "len(y_o), y_new.shape"
   ]
  },
  {
   "cell_type": "code",
   "execution_count": null,
   "metadata": {
    "execution": {
     "iopub.execute_input": "2022-10-24T00:16:26.835178Z",
     "iopub.status.busy": "2022-10-24T00:16:26.834650Z",
     "iopub.status.idle": "2022-10-24T00:16:26.849845Z",
     "shell.execute_reply": "2022-10-24T00:16:26.848813Z",
     "shell.execute_reply.started": "2022-10-24T00:16:26.835145Z"
    },
    "trusted": true
   },
   "outputs": [
    {
     "data": {
      "text/plain": [
       "(0, array([1., 0., 0., 0., 0., 0.], dtype=float32))"
      ]
     },
     "metadata": {},
     "output_type": "display_data"
    }
   ],
   "source": [
    "y_o[150], y_new[150]"
   ]
  },
  {
   "cell_type": "code",
   "execution_count": null,
   "metadata": {
    "execution": {
     "iopub.execute_input": "2022-10-24T00:16:26.852048Z",
     "iopub.status.busy": "2022-10-24T00:16:26.851291Z",
     "iopub.status.idle": "2022-10-24T00:16:26.860320Z",
     "shell.execute_reply": "2022-10-24T00:16:26.859390Z",
     "shell.execute_reply.started": "2022-10-24T00:16:26.851977Z"
    },
    "trusted": true
   },
   "outputs": [],
   "source": [
    "from keras.models import Sequential\n",
    "from keras.layers import Dense , Activation , Dropout ,Flatten\n",
    "from keras.layers.convolutional import Conv2D\n",
    "from keras.layers.convolutional import MaxPooling2D\n",
    "from keras.metrics import categorical_accuracy\n",
    "from keras.models import model_from_json\n",
    "from keras.callbacks import ModelCheckpoint\n",
    "from keras.optimizers import *\n",
    "from keras.layers.normalization import BatchNormalization"
   ]
  },
  {
   "cell_type": "code",
   "execution_count": null,
   "metadata": {
    "execution": {
     "iopub.execute_input": "2022-10-24T00:16:26.862279Z",
     "iopub.status.busy": "2022-10-24T00:16:26.861633Z",
     "iopub.status.idle": "2022-10-24T00:16:27.140323Z",
     "shell.execute_reply": "2022-10-24T00:16:27.139350Z",
     "shell.execute_reply.started": "2022-10-24T00:16:26.862235Z"
    },
    "trusted": true
   },
   "outputs": [],
   "source": [
    "model = Sequential()\n",
    "\n",
    "\n",
    "input_shape = (48,48,1)\n",
    "\n",
    "\n",
    "model.add(Conv2D(64, (5, 5), input_shape=input_shape,activation='relu', padding='same'))\n",
    "model.add(Conv2D(64, (5, 5), padding='same'))\n",
    "model.add(BatchNormalization())\n",
    "model.add(Activation('relu'))\n",
    "model.add(MaxPooling2D(pool_size=(2, 2)))\n",
    "\n",
    "\n",
    "model.add(Conv2D(128, (5, 5),activation='relu',padding='same'))\n",
    "model.add(Conv2D(128, (5, 5),padding='same'))\n",
    "model.add(BatchNormalization())\n",
    "model.add(Activation('relu'))\n",
    "model.add(MaxPooling2D(pool_size=(2, 2)))\n",
    "\n",
    "model.add(Conv2D(256, (3, 3),activation='relu',padding='same'))\n",
    "model.add(Conv2D(256, (3, 3),activation='relu',padding='same'))\n",
    "model.add(BatchNormalization())\n",
    "model.add(MaxPooling2D(pool_size=(2, 2)))\n",
    "\n",
    "## (15, 15) --->  30\n",
    "model.add(Flatten())\n",
    "model.add(Dense(6, activation='softmax'))\n",
    "\n",
    "model.compile(loss='categorical_crossentropy', metrics=['accuracy'],optimizer='adam')"
   ]
  },
  {
   "cell_type": "code",
   "execution_count": null,
   "metadata": {
    "execution": {
     "iopub.execute_input": "2022-10-24T00:16:27.144155Z",
     "iopub.status.busy": "2022-10-24T00:16:27.143856Z"
    },
    "trusted": true
   },
   "outputs": [
    {
     "name": "stdout",
     "output_type": "stream",
     "text": [
      "Epoch 1/22\n",
      "139/301 [============>.................] - ETA: 8:34 - loss: 2.3326 - accuracy: 0.2226"
     ]
    }
   ],
   "source": [
    "model.fit(X, y_new, epochs=22, batch_size=64, shuffle=True, validation_split=0.2)"
   ]
  },
  {
   "cell_type": "code",
   "execution_count": null,
   "metadata": {
    "trusted": true
   },
   "outputs": [],
   "source": [
    "model.save('model.h5')"
   ]
  },
  {
   "cell_type": "code",
   "execution_count": null,
   "metadata": {
    "trusted": true
   },
   "outputs": [],
   "source": [
    "import cv2"
   ]
  },
  {
   "cell_type": "code",
   "execution_count": null,
   "metadata": {
    "trusted": true
   },
   "outputs": [],
   "source": [
    "test_img = cv2.imread('../input/happy-img-test/pexels-andrea-piacquadio-941693.jpg', 0)"
   ]
  },
  {
   "cell_type": "code",
   "execution_count": null,
   "metadata": {
    "trusted": true
   },
   "outputs": [],
   "source": [
    "test_img.shape"
   ]
  },
  {
   "cell_type": "code",
   "execution_count": null,
   "metadata": {
    "trusted": true
   },
   "outputs": [],
   "source": [
    "test_img = cv2.resize(test_img, (48,48))\n",
    "test_img.shape"
   ]
  },
  {
   "cell_type": "code",
   "execution_count": null,
   "metadata": {
    "trusted": true
   },
   "outputs": [],
   "source": [
    "test_img = test_img.reshape(1,48,48,1)"
   ]
  },
  {
   "cell_type": "code",
   "execution_count": null,
   "metadata": {
    "trusted": true
   },
   "outputs": [],
   "source": [
    "model.predict(test_img)"
   ]
  },
  {
   "cell_type": "code",
   "execution_count": null,
   "metadata": {
    "trusted": true
   },
   "outputs": [],
   "source": [
    "# label_map = ['Anger', 'Neutral', 'Fear', 'Happy', 'Sad', 'Surprise']"
   ]
  }
 ],
 "metadata": {
  "language_info": {
   "name": "python"
  },
  "orig_nbformat": 4
 },
 "nbformat": 4,
 "nbformat_minor": 2
}
